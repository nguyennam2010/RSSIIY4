{
 "cells": [
  {
   "cell_type": "code",
   "execution_count": 22,
   "id": "1f89fbda",
   "metadata": {},
   "outputs": [
    {
     "name": "stdout",
     "output_type": "stream",
     "text": [
      "Login successful!\n",
      "OTRjZmZmN2ItNGRkYS00ZGM0LWIwMmItOThk\n"
     ]
    }
   ],
   "source": [
    "# -*- coding: utf-8 -*-\n",
    "\"\"\"\n",
    "Created on Thu Nov  3 16:16:14 2022\n",
    "\n",
    "@author: Hoai-Nam\n",
    "\"\"\"\n",
    "\n",
    "import requests\n",
    "import warnings\n",
    "\n",
    "account = 'apiUser'\n",
    "password = 'x564#kdHrtNb563abcde'\n",
    "Controller_url='https://140.118.151.248:4343'\n",
    "\n",
    "# Login Aruba function\n",
    "\n",
    "def login(ACCOUNT, PASSWORD, CONTROLLERURL):\n",
    "\n",
    "    # Avoid warning\n",
    "\n",
    "    warnings.filterwarnings('ignore') \n",
    "    path = 'data.txt'\n",
    "    # =============================================================================\n",
    "\n",
    "    # auto login and get cookie\n",
    "\n",
    "    url = CONTROLLERURL+'/screens/wms/wms.login'\n",
    "    headers = {'Content-Type': 'text/html','User-Agent':'Mozilla/5.0 (Windows NT 10.0; Win64; x64) AppleWebKit/537.36 (KHTML, like Gecko) Chrome/96.0.4664.110 Safari/537.36'}\n",
    "    chartData = 'opcode=login&url=%2Flogin.html&needxml=0&uid='+ACCOUNT+'&passwd='+PASSWORD\n",
    "    res_data = requests.post(url, verify=False, headers = headers, data = chartData.encode('utf-8'))\n",
    "    cookieStr = res_data.cookies['SESSION']\n",
    "    print('Login successful!')\n",
    "    return url, headers, chartData, res_data, cookieStr\n",
    "\n",
    "login_result = login(account, password, Controller_url)\n",
    "\n",
    "# =============================================================================\n",
    "\n",
    "# Test result\n",
    "\n",
    "print(cookieStr)"
   ]
  },
  {
   "cell_type": "code",
   "execution_count": null,
   "id": "f8ebf0d0",
   "metadata": {},
   "outputs": [],
   "source": []
  }
 ],
 "metadata": {
  "kernelspec": {
   "display_name": "Python 3 (ipykernel)",
   "language": "python",
   "name": "python3"
  },
  "language_info": {
   "codemirror_mode": {
    "name": "ipython",
    "version": 3
   },
   "file_extension": ".py",
   "mimetype": "text/x-python",
   "name": "python",
   "nbconvert_exporter": "python",
   "pygments_lexer": "ipython3",
   "version": "3.9.7"
  }
 },
 "nbformat": 4,
 "nbformat_minor": 5
}
