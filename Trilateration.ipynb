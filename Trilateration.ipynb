{
 "cells": [
  {
   "cell_type": "markdown",
   "id": "8a0f8477",
   "metadata": {},
   "source": [
    "# Trilateration"
   ]
  },
  {
   "cell_type": "code",
   "execution_count": 3,
   "id": "76c56907",
   "metadata": {},
   "outputs": [
    {
     "data": {
      "text/plain": [
       "['Nam', 2.646279021558605, 2.1828272782174802]"
      ]
     },
     "execution_count": 3,
     "metadata": {},
     "output_type": "execute_result"
    }
   ],
   "source": [
    "import ast\n",
    "import math\n",
    "from math import pow\n",
    "import numpy as np\n",
    "from scipy.optimize import least_squares\n",
    "# Least square algorithm for indoor positioning\n",
    "def trilaterate(distances, positions):\n",
    "  def residuals(x, distances, positions):\n",
    "    residuals = []\n",
    "    for i in range(len(distances)):\n",
    "      residuals.append(np.linalg.norm(x - positions[i]) - distances[i])\n",
    "    return residuals\n",
    "  \n",
    "  initial_guess = np.mean(positions, axis=0)\n",
    "  result = least_squares(residuals, initial_guess, args=(distances, positions))\n",
    "  return result.x\n",
    "\n",
    "# 2D trilateration algorithm \n",
    "def trilateration_2d_co(distances, positions, name):\n",
    "    # Calculate the position of the object\n",
    "    position = trilaterate(distances, positions)\n",
    "    \n",
    "    final = [name, position[0], position[1]]\n",
    "    return final\n",
    "\n",
    "# 3D trilateration algorithm\n",
    "def trilateration_3d_co(distances, positions, name):\n",
    "    # Calculate the position of the object\n",
    "    position = trilaterate(distances, positions)\n",
    "\n",
    "    final = [name, position[0], position[1], position[2]]\n",
    "    return final\n",
    "\n",
    "positions = ((2 , 3), (3, 4), (4,5))\n",
    "distances = (1, 2, 3)\n",
    "name = 'Nam'\n",
    "trilateration_2d_co(distances, positions, name)"
   ]
  },
  {
   "cell_type": "code",
   "execution_count": null,
   "id": "b6248164",
   "metadata": {},
   "outputs": [],
   "source": []
  }
 ],
 "metadata": {
  "kernelspec": {
   "display_name": "Python 3",
   "language": "python",
   "name": "python3"
  },
  "language_info": {
   "codemirror_mode": {
    "name": "ipython",
    "version": 3
   },
   "file_extension": ".py",
   "mimetype": "text/x-python",
   "name": "python",
   "nbconvert_exporter": "python",
   "pygments_lexer": "ipython3",
   "version": "3.8.8"
  }
 },
 "nbformat": 4,
 "nbformat_minor": 5
}
