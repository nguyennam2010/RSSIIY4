{
 "cells": [
  {
   "cell_type": "code",
   "execution_count": 20,
   "id": "9e10384d",
   "metadata": {},
   "outputs": [],
   "source": [
    "#show command via Aruba API\n",
    "\n",
    "%run Authentication.ipynb\n",
    "import requests\n",
    "\n",
    "from requests.packages.urllib3.exceptions import InsecureRequestWarning\n",
    "requests.packages.urllib3.disable_warnings(InsecureRequestWarning)\n",
    "\n",
    "def show_command(aosip,uidaruba,command):\n",
    "    url_login = 'https://' + aosip + ':4343/v1/configuration/showcommand?command='+command+'&UIDARUBA=' + uidaruba\n",
    "    aoscookie = dict(SESSION = uidaruba)\n",
    "    AOS_response = requests.get(url_login, cookies=aoscookie, verify=False)\n",
    "    \n",
    "    if AOS_response.status_code != 200:\n",
    "        print('Status:', AOS_response.status_code, 'Headers:', AOS_response.headers,'Error Response:', AOS_response.reason)\n",
    "        AOS_response = 'error'\n",
    "\n",
    "    else:\n",
    "        AOS_response = AOS_response.json()\n",
    "        \n",
    "    return AOS_response"
   ]
  },
  {
   "cell_type": "code",
   "execution_count": 21,
   "id": "dcf0ac9f",
   "metadata": {},
   "outputs": [
    {
     "name": "stdout",
     "output_type": "stream",
     "text": [
      "{'Time-Range night-hours, Periodic': [{'Applied': 'No', 'End-time': '23:59', 'EndDay': None, 'Start-time': '18:01', 'StartDay': 'weekday'}, {'Applied': 'No', 'End-time': '07:59', 'EndDay': None, 'Start-time': '00:00', 'StartDay': 'weekday'}], 'Time-Range working-hours, Periodic': [{'Applied': 'No', 'End-time': '18:00', 'EndDay': None, 'Start-time': '08:00', 'StartDay': 'weekday'}], '_data': [], '_meta': ['StartDay', 'Start-time', 'EndDay', 'End-time', 'Applied']}\n"
     ]
    }
   ],
   "source": [
    "import os\n",
    "from dotenv import load_dotenv\n",
    "\n",
    "# Load variables from .env file\n",
    "load_dotenv()\n",
    "\n",
    "username=os.environ.get(\"ACCOUNT\")\n",
    "password=os.environ.get('PASSWORD') \n",
    "aosip = os.environ.get('vMM_aosip')\n",
    "uidaruba = authentication(username,password, aosip)\n",
    "command = 'show+time-range'\n",
    "\n",
    "print(show_command(aosip,uidaruba,command))"
   ]
  },
  {
   "cell_type": "code",
   "execution_count": null,
   "id": "6907717f",
   "metadata": {},
   "outputs": [],
   "source": []
  }
 ],
 "metadata": {
  "kernelspec": {
   "display_name": "Python 3 (ipykernel)",
   "language": "python",
   "name": "python3"
  },
  "language_info": {
   "codemirror_mode": {
    "name": "ipython",
    "version": 3
   },
   "file_extension": ".py",
   "mimetype": "text/x-python",
   "name": "python",
   "nbconvert_exporter": "python",
   "pygments_lexer": "ipython3",
   "version": "3.9.7"
  }
 },
 "nbformat": 4,
 "nbformat_minor": 5
}
