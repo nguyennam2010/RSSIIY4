{
 "cells": [
  {
   "cell_type": "code",
   "execution_count": 1,
   "id": "16973b4e",
   "metadata": {},
   "outputs": [],
   "source": [
    "# -*- coding: utf-8 -*-\n",
    "\"\"\"\n",
    "Created on Sat Aug  5 03:06:49 2023\n",
    "\n",
    "@author: Administrator\n",
    "\"\"\"\n",
    "\n",
    "import math\n",
    "from math import pow\n",
    "import numpy as np\n",
    "from scipy.optimize import least_squares\n",
    "\n",
    "# =============================================================================\n",
    "# Create functions for WiFi Positioning\n",
    "\n",
    "# Simplified path loss model\n",
    "def calc_dist(rssi,a,n):\n",
    "    cal_d= pow(10,((rssi-a)/(-10*n)))\n",
    "    return cal_d\n",
    "\n",
    "# Calculate distance error\n",
    "def dist_error_2d(x1,y1,x2,y2):  \n",
    "    dist = math.sqrt((x2 - x1)**2 + (y2 - y1)**2)  \n",
    "    return dist \n",
    "\n",
    "# Least square algorithm for indoor positioning\n",
    "def trilaterate(distances, positions):\n",
    "  def residuals(x, distances, positions):\n",
    "    residuals = []\n",
    "    for i in range(len(distances)):\n",
    "      residuals.append(np.linalg.norm(x - positions[i]) - distances[i])\n",
    "    return residuals\n",
    "  \n",
    "  initial_guess = np.mean(positions, axis=0)\n",
    "  result = least_squares(residuals, initial_guess, args=(distances, positions))\n",
    "  return result.x\n",
    "\n",
    "# 2D trilateration algorithm \n",
    "def trilateration_2d_co(distances, positions, name):\n",
    "    # Calculate the position of the object\n",
    "    position = trilaterate(distances, positions)\n",
    "    \n",
    "    final = [name, position[0], position[1]]\n",
    "    return final\n",
    "\n",
    "# 3D trilateration algorithm\n",
    "def trilateration_3d_co(distances, positions, name):\n",
    "    # Calculate the position of the object\n",
    "    position = trilaterate(distances, positions)\n",
    "\n",
    "    final = [name, position[0], position[1], position[2]]\n",
    "    return final"
   ]
  },
  {
   "cell_type": "code",
   "execution_count": 4,
   "id": "d48a0deb",
   "metadata": {},
   "outputs": [],
   "source": [
    "# Create monitoring APs coordinate dictionary from xlsx\n",
    "import pandas as pd \n",
    "import ast\n",
    "\n",
    "df = pd.read_excel('Coordinate.xlsx')\n",
    "\n",
    "f = df['Floor'].tolist()\n",
    "loc_iy = df.values.tolist()\n",
    "loc_iy = [[value for value in inner_list[1:] if not (isinstance(value, float) and math.isnan(value))] for inner_list in loc_iy]\n",
    "\n",
    "# Convert list of lists of strings to a dictionary of lists of tuples\n",
    "loc_iy = {str(f[i]): [ast.literal_eval(item) for item in inner_list] for i, inner_list in enumerate(loc_iy)}\n",
    "\n",
    "# Set path loss exponent (n) and reference power (a)\n",
    "n=3 # Path loss exponent\n",
    "a=-37 # Reference power for 2.4 GHz\n",
    "b=-49 # Reference power for 5 GHz"
   ]
  },
  {
   "cell_type": "code",
   "execution_count": 5,
   "id": "7db67949",
   "metadata": {},
   "outputs": [
    {
     "data": {
      "text/plain": [
       "3.9810717055349722"
      ]
     },
     "execution_count": 5,
     "metadata": {},
     "output_type": "execute_result"
    }
   ],
   "source": [
    "calc_dist(-55,a,n)"
   ]
  },
  {
   "cell_type": "code",
   "execution_count": 6,
   "id": "c33b35d6",
   "metadata": {},
   "outputs": [
    {
     "data": {
      "text/plain": [
       "['Nam', 4.370163413567932, -0.9076335956243211]"
      ]
     },
     "execution_count": 6,
     "metadata": {},
     "output_type": "execute_result"
    }
   ],
   "source": [
    "distances = (4, 5, 6)\n",
    "positions = ((1,1), (1,3), (5,5))\n",
    "name = 'Nam'\n",
    "\n",
    "trilateration_2d_co(distances, positions, name)"
   ]
  },
  {
   "cell_type": "code",
   "execution_count": null,
   "id": "138a0682",
   "metadata": {},
   "outputs": [],
   "source": []
  }
 ],
 "metadata": {
  "kernelspec": {
   "display_name": "Python 3 (ipykernel)",
   "language": "python",
   "name": "python3"
  },
  "language_info": {
   "codemirror_mode": {
    "name": "ipython",
    "version": 3
   },
   "file_extension": ".py",
   "mimetype": "text/x-python",
   "name": "python",
   "nbconvert_exporter": "python",
   "pygments_lexer": "ipython3",
   "version": "3.9.7"
  }
 },
 "nbformat": 4,
 "nbformat_minor": 5
}
