{
 "cells": [
  {
   "cell_type": "code",
   "execution_count": 5,
   "id": "79a6c8ce",
   "metadata": {},
   "outputs": [
    {
     "data": {
      "text/plain": [
       "'YWI0NWZkNDItODkwNS00ZjM3LWEzYmMtNjY4'"
      ]
     },
     "execution_count": 5,
     "metadata": {},
     "output_type": "execute_result"
    }
   ],
   "source": [
    "#Get the token to access Aruba Controller  -- via API\n",
    "\n",
    "import requests\n",
    "import os\n",
    "from dotenv import load_dotenv\n",
    "from requests.packages.urllib3.exceptions import InsecureRequestWarning\n",
    "requests.packages.urllib3.disable_warnings(InsecureRequestWarning)\n",
    "\n",
    "# Load variables from .env file\n",
    "load_dotenv()\n",
    "\n",
    "def authentication(username,password,aosip):\n",
    "    url_login = \"https://\" + aosip + \":4343/v1/api/login\"\n",
    "    payload_login = 'username=' + username + '&password=' + password\n",
    "    headers = {'Content-Type': 'application/json'}\n",
    "    get_uidaruba = requests.post(url_login, data=payload_login, headers=headers, verify=False)\n",
    "\n",
    "    if get_uidaruba.status_code != 200:\n",
    "        print('Status:', get_uidaruba.status_code, 'Headers:', get_uidaruba.headers,'Error Response:', get_uidaruba.reason)\n",
    "        uidaruba = \"error\"\n",
    "\n",
    "    else:\n",
    "        uidaruba = get_uidaruba.json()[\"_global_result\"]['UIDARUBA']\n",
    "        return uidaruba\n",
    "\n",
    "username= os.environ.get('ACCOUNT') # Aruba controller username\n",
    "password= os.environ.get('PASSWORD') # Aruba controller password\n",
    "aosip= os.environ.get('vMM_aosip') # Aruba controller IP address\n",
    "\n",
    "authentication(username,password, aosip)"
   ]
  },
  {
   "cell_type": "code",
   "execution_count": null,
   "id": "5f20fc7a",
   "metadata": {},
   "outputs": [],
   "source": []
  }
 ],
 "metadata": {
  "kernelspec": {
   "display_name": "Python 3 (ipykernel)",
   "language": "python",
   "name": "python3"
  },
  "language_info": {
   "codemirror_mode": {
    "name": "ipython",
    "version": 3
   },
   "file_extension": ".py",
   "mimetype": "text/x-python",
   "name": "python",
   "nbconvert_exporter": "python",
   "pygments_lexer": "ipython3",
   "version": "3.9.7"
  }
 },
 "nbformat": 4,
 "nbformat_minor": 5
}
