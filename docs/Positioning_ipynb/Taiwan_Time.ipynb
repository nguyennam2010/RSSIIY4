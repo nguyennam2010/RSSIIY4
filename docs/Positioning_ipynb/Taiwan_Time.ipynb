{
 "cells": [
  {
   "cell_type": "code",
   "execution_count": 2,
   "id": "b79f0135",
   "metadata": {},
   "outputs": [
    {
     "data": {
      "text/plain": [
       "(datetime.datetime(2023, 8, 4, 20, 51, 10),\n",
       " '2023-08-05 04:51:10',\n",
       " datetime.datetime(2023, 8, 5, 4, 51, 10, 608913))"
      ]
     },
     "execution_count": 2,
     "metadata": {},
     "output_type": "execute_result"
    }
   ],
   "source": [
    "# -*- coding: utf-8 -*-\n",
    "\"\"\"\n",
    "Created on Sat Aug  5 02:00:57 2023\n",
    "\n",
    "@author: Administrator\n",
    "\"\"\"\n",
    "\n",
    "import requests\n",
    "from datetime import timedelta\n",
    "from datetime import datetime, timedelta\n",
    "import warnings\n",
    "from requests.packages.urllib3.exceptions import InsecureRequestWarning\n",
    "requests.packages.urllib3.disable_warnings(InsecureRequestWarning)\n",
    "warnings.filterwarnings(\"ignore\")\n",
    "\n",
    "def calculate_taiwan_time():\n",
    "    # =============================================================================\n",
    "    # Add datetime (GMT +8)\n",
    "    ts = datetime.now().strftime(\"%Y-%m-%dT%H:%M:%S.000Z\") #datetime (GMT)\n",
    "    ts = datetime.strptime(ts, \"%Y-%m-%dT%H:%M:%S.%fz\")\n",
    "\n",
    "    n = 8\n",
    "    # Subtract 8 hours from datetime object for Taiwan time\n",
    "    ts = ts - timedelta(hours=n)\n",
    "    ts_tw_str = datetime.now().strftime(\"%Y-%m-%d %H:%M:%S\")\n",
    "    ts_tw = datetime.now() #datetime Taiwan (GMT + 8)\n",
    "    return ts, ts_tw_str, ts_tw\n",
    "\n",
    "calculate_taiwan_time()"
   ]
  },
  {
   "cell_type": "code",
   "execution_count": null,
   "id": "1bb11edb",
   "metadata": {},
   "outputs": [],
   "source": []
  }
 ],
 "metadata": {
  "kernelspec": {
   "display_name": "Python 3 (ipykernel)",
   "language": "python",
   "name": "python3"
  },
  "language_info": {
   "codemirror_mode": {
    "name": "ipython",
    "version": 3
   },
   "file_extension": ".py",
   "mimetype": "text/x-python",
   "name": "python",
   "nbconvert_exporter": "python",
   "pygments_lexer": "ipython3",
   "version": "3.9.7"
  }
 },
 "nbformat": 4,
 "nbformat_minor": 5
}
